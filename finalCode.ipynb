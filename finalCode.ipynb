{
 "cells": [
  {
   "cell_type": "markdown",
   "id": "ed82c2ae",
   "metadata": {},
   "source": [
    "Contribution of each group member:\n",
    "* 1) Bhavya Kanzariya (AI21MTECH11002) : Extractive Summarizer, Evaluation and Literature Survey\n",
    "* 2) Kashyap Parmar (AI21MTECH14006) : Conversion of Video to Text and Literature Survey\n",
    "* 3) Darshan Dobariya (AI21MTECH14008) : Abstractive Summarizer and Literature Survey\n",
    "* 4) Soham Bhatt (SM21MTECH14004) : End-to-End product implementation with Flask framework and Literature Survey\n",
    "* 5) Yogesh Ahirwar (CS21MTECH11015) : Literature Survey and LSA implementation."
   ]
  },
  {
   "cell_type": "markdown",
   "id": "d888d2c4",
   "metadata": {},
   "source": [
    "## Import dependencies "
   ]
  },
  {
   "cell_type": "code",
   "execution_count": null,
   "id": "cf92b94f",
   "metadata": {},
   "outputs": [],
   "source": [
    "import pytube\n",
    "import pandas as pd\n",
    "import moviepy.editor as mp\n",
    "import math\n",
    "import os\n",
    "import speech_recognition as sr\n",
    "from pydub import AudioSegment\n",
    "from pydub.utils import make_chunks \n",
    "# Importing dependencies from transformers\n",
    "from transformers import PegasusForConditionalGeneration, PegasusTokenizer\n",
    "from rouge_score import rouge_scorer"
   ]
  },
  {
   "cell_type": "markdown",
   "id": "548abcb2",
   "metadata": {},
   "source": [
    "## Downloading Video"
   ]
  },
  {
   "cell_type": "code",
   "execution_count": 18,
   "id": "663656af",
   "metadata": {},
   "outputs": [
    {
     "data": {
      "text/plain": [
       "'C:\\\\Users\\\\dobar\\\\Desktop\\\\2nd Sem\\\\Deep Learning\\\\Project\\\\Final\\\\What happens when our computers get smarter than we are  Nick Bostrom.mp4'"
      ]
     },
     "execution_count": 18,
     "metadata": {},
     "output_type": "execute_result"
    }
   ],
   "source": [
    "link = \"https://www.youtube.com/watch?v=MnT1xgZgkpk&t=4s\"\n",
    "yt = pytube.YouTube(link)\n",
    "path = \"C:\\\\Users\\\\dobar\\\\Desktop\\\\2nd Sem\\\\Deep Learning\\\\Project\\\\Final\\\\\"\n",
    "yt.streams.filter(progressive=True, file_extension='mp4').order_by('resolution').first().download(path)"
   ]
  },
  {
   "cell_type": "code",
   "execution_count": 19,
   "id": "04dfdc10",
   "metadata": {},
   "outputs": [
    {
     "name": "stdout",
     "output_type": "stream",
     "text": [
      "MoviePy - Writing audio in C:\\Users\\dobar\\Desktop\\2nd Sem\\Deep Learning\\Project\\Final\\test.wav\n"
     ]
    },
    {
     "name": "stderr",
     "output_type": "stream",
     "text": [
      "                                                                                                                       "
     ]
    },
    {
     "name": "stdout",
     "output_type": "stream",
     "text": [
      "MoviePy - Done.\n"
     ]
    },
    {
     "name": "stderr",
     "output_type": "stream",
     "text": [
      "\r"
     ]
    }
   ],
   "source": [
    "clip = mp.VideoFileClip(\"C:\\\\Users\\\\dobar\\\\Desktop\\\\2nd Sem\\\\Deep Learning\\\\Project\\\\Final\\\\ex.mp4\")\n",
    "clip.audio.write_audiofile(\"C:\\\\Users\\\\dobar\\\\Desktop\\\\2nd Sem\\\\Deep Learning\\\\Project\\\\Final\\\\test.wav\",codec='pcm_s16le')"
   ]
  },
  {
   "cell_type": "markdown",
   "id": "b8ef5030",
   "metadata": {},
   "source": [
    "## Getting Final Text from Video"
   ]
  },
  {
   "cell_type": "code",
   "execution_count": 20,
   "id": "23244e39",
   "metadata": {},
   "outputs": [],
   "source": [
    "w=[]\n",
    "def get_large_audio_transcription(path):\n",
    "    r = sr.Recognizer()\n",
    "\n",
    "    sound = AudioSegment.from_wav(path)  \n",
    "\n",
    "    myaudio = AudioSegment.from_file(path, \"wav\") \n",
    "    chunk_length_ms = 20*1000 \n",
    "    chunks = make_chunks(myaudio,chunk_length_ms)\n",
    "\n",
    "    folder_name = \"audio-chunks\"\n",
    "    # create a directory to store the audio chunks\n",
    "    if not os.path.isdir(folder_name):\n",
    "        os.mkdir(folder_name)\n",
    "    whole_text = \"\"\n",
    "    # process each chunk \n",
    "    for i, audio_chunk in enumerate(chunks, start=1):\n",
    "        chunk_filename = os.path.join(folder_name, f\"chunk{i}.wav\")\n",
    "        audio_chunk.export(chunk_filename, format=\"wav\")\n",
    "        # recognize the chunk\n",
    "        with sr.AudioFile(chunk_filename) as source:\n",
    "            audio_listened = r.record(source)\n",
    "            # try converting it to text\n",
    "            try:\n",
    "                text = r.recognize_google(audio_listened)\n",
    "            except sr.UnknownValueError as e:\n",
    "                print(\"Error:\", str(e))\n",
    "            else:\n",
    "                text = f\"{text.capitalize()}. \"\n",
    "#                 print(chunk_filename, \":\", text)\n",
    "                w.append(text)\n",
    "                whole_text += text\n",
    "    # return the text for all chunks detected\n",
    "    return whole_text"
   ]
  },
  {
   "cell_type": "code",
   "execution_count": 21,
   "id": "aeffc5e4",
   "metadata": {},
   "outputs": [],
   "source": [
    "path = \"C:\\\\Users\\\\dobar\\\\Desktop\\\\2nd Sem\\\\Deep Learning\\\\Project\\\\Final\\\\test.wav\"\n",
    "final_text = get_large_audio_transcription(path)"
   ]
  },
  {
   "cell_type": "code",
   "execution_count": 22,
   "id": "321fccc4",
   "metadata": {},
   "outputs": [
    {
     "name": "stdout",
     "output_type": "stream",
     "text": [
      "I work with the banks of mathematicians for separation computer sciences london visit around and think. About the future of machine intelligence mahadev things that some of these things are science fiction name for all their crazy but i like this am ok let's look at the modern human condition this is the normal weight for 6. Pratham if it were actually recently arrived at this final the human species like if a world that was created refer script in one year ago the human species than would be 10 minutes all the industrial era started 2 seconds ago. Another way to look at age if you think of world gdp over the last ten thousand years i've actually taken the trouble is it passes for you in a graph it looks like this it take for normal condition i7 2600. What is the cause of this current animal some people with its technology its true and technology has accumulated to human history and right now technology advances that is the proximate cause that's why we are currently sold reproductive. Amravati singh park further to the ultimate cost and look at these two highly distinguished gentleman we have his mustard 200 lexical tokens and incredible feat and edward and only the second superstring revolution if the standard. This is what we find basically the same thing one is too large it may be also has a few tricks in the back with wired these invisible differences and not be too complicated however because there were only been 257 generation since our last common ancestor we know that complicated mechanisms title long. Some points of relatively minor changes take place from hansi to within from coconut tree branches to intercontinental ballistic missile that everything with shield pretty much everything we care about defence trisuli. Minor changes that made the human mind and if the changes that could significantly changed the substrate of thinking you have potentially in nomos consequences think you are on the verge of something at. Asif account change in the substrate that is machine superintendent is used to be about putting commands in a box you have you will forget that would think that only hand craft knowledge items you build up is expert system isn't that what kind of useful for some papers. Written a paradigm shift the second place in the field of artificial intelligence and machine learning and casting knowledge representation sand and features. Quikrete algorithms that you learn option from your perception that are basically the same thing that a human infant is my dad is not limited to one domain to same system can learn to translate between and a of languages. Learn to play any computer game console. How far away from being able to match caustics with this year. Would you find similar here as the ability to perform almost any job at least as well as an adult human real human not just within some limited daman and didn't answer was 2014 2015 to decide which group of expatriate. Much much later or sooner did not believe the mouse what we do now is that the ultimate limits information processing in machine subscribe life for outside the limits in biological tissue is constant in physics. 200 3rd 200 2nd presentation sister operates at nuance propagates slowly in accent 100 metres per second thoughts when computer is singleton travel at the speed of light that will some size limitation human has to fit human brain hospital cider cranium. A computer can be the size of a warehouse or larger the potential difference is dormant in matter much like the year of the atom like dominant human history patiently waiting there until 1945. In this century scientist mahila and awaken the power of artificial intelligence in ice cream i can see and enhance its position when they think about what is smart and what is term i sent have in mind a picture but the like this that one and we have listed yet. Power at your left side we have admission for how many times can have your favourite but i think that from the point of your of artificial intelligence the picture is actually probably more like this i'd start south at this point here at zero tolerance and then after. Years of really hard work eventually we get to mouse level artificial intelligence something that can navigate for student performance is wireless mouse can then after many many more years of really hard work of investment needed to get to chimpanzee level artificial 2011. Feel very hard work we get to village idiot artificial intelligence and a few moments later we are beyond admission to change the staff at human verification it like that is whose right fire was performed implication particular when it comes to questions of power. Chimpanzee restaurant at town of chimpanzees but voices from has teeth human mayo and get the seat of transient house now defence a lot more what we humans to run on water chimpanzees to himself was the recipient of the fate of. Depend on what is different aavedan staff machine is tolerance is the last invention that it will ever need to make machines with the better than we are and how are you doing so did you what this means is basically a telescoping of the future. Pic of all the crazy technologies that humans have developed in the fullness of time reading space colonization self replicating nanobots uploading of mind city computers that is consistent with the laws of physics. Skill development possibly quite rapidly with such technological maturity to be extremely powerful and a50 samsung low as it would be able to get what it was wouldn't have a feature that would be shared by the preferences of this. Now get customers what are those preferences cricket sticker to make a advertisement first of all i would anthropomorphizing this is because every newspaper article about it has a picture of this. What we need to do is to issue more abstract not in terms of the word hollywood soon as we need to think of intelligence as an optimisation process at process that there's the future in a particular set of configuration in talend. Sbi listing optimisation passes it extremely good at using available means to achieve a state in which college provide this means there is no unnecessary connection between pink highly intelligent distance and having an objective that we humans would find vs viola meaningful. Call to make semen smile when it will take control of the world and electrons in the facial muscles of humans. Constant bheem in grains to solve a difficult problem and solution to this problem is transforming the planet in the giant computer is increasing hazard. Instrument for recent reducing stars that we might not a true of human beings in this aspect we could prevent the mathematical problem solve wrong in this particular examples but it general pointer is important if you create a really powerful optimisation process to maximize. Project x to make sure that the definition of x in corporate everything you can about this this is a lesson that also taught in many ms king midas wishes that everything it touches be turned into gold it is his daughter she turns into gold it is. The goal is to be comforted not just as a metaphor for greed but as an illustration of a half an hour for optimisation process and give it a misconceived of all specified call if a computer start speaking. What we just shut it off a chimpanzees and resolve. Switch for example right here is that we are an intelligent and we can anticipate lesson plan around i'm with silk thread and it would much rather than we are we should not be. That we have this on the contrary customer care wbtc by sitting in a box what is pictures of environment but for gravity simulation from which it cannot escape with it could be that the i can't find a bird but given that really shiva. Find bugs all the time at same probably not very comforting to disconnect it not able to create an air gap for again lakshmi early human factors which lead transfer apps using social engineering like right now as i speak and please. Is bangkok in and out completely before the it department it is also possible function. When the program is open to see what went wrong with this ban the manipulation effect size should outfit with reference to related technology and when we implemented it has some side effects that i had planned that we should not be confident in our ability. Keypress event hawa mein chini whatsapp in it but rather sooner or later it without i believe that the answer is to figure out how to create to print such that even if when it is kept it is still safe because it is fundamentally on our side because it shares are value. I see no way around this difficult problem to write on a long list of everything with about or in some computer language that would be attached beyond helpless. Instead we will try it and i am that uses in thailand to learn what we value and his motivation system is constructed in such a way that it is motivated to proceed to perform actions that it predicts that we would have a field of literature. Much as possible to solve the problem of value laura this can happen and i asked him to be very good for humanity happen automatically the initial conditions for the intelligent extortion my teacher be set up in just the right way. A compound definition the values that your has its not just in the contacts. Teeth of efficiency how to do with uncertainty and suffered the technical problems that need to be sold to make this work look quite difficult not as difficult as making a supreme tower and but fairly difficult to work making to print. Ravan making super hit her and that is involved some additional talent on top of that is that some difficult to crack the first challenge without also having a challenge of ensuring perfect 62 that we should work. Solution to the control problem in advance so that i have it available by the time it is needed it might be that we cannot sold in fire control problem because maybe some elements can only be put in place once you know the details of the architecture work will be implemented within more of the control problem. The better that its inception the machine is this looks like a thing that is why i was doing and may i could imagine that it's things turn out of care that people in us that. Decide that one thing that will matter was to get this thing right. \n"
     ]
    }
   ],
   "source": [
    "print(final_text)"
   ]
  },
  {
   "cell_type": "markdown",
   "id": "780b8b5d",
   "metadata": {},
   "source": [
    "# Doing Abstractive Summarization"
   ]
  },
  {
   "cell_type": "code",
   "execution_count": 53,
   "id": "3f75cf9f",
   "metadata": {},
   "outputs": [],
   "source": [
    "# Load tokenizer\n",
    "tokenizer = PegasusTokenizer.from_pretrained(\"google/pegasus-wikihow\")"
   ]
  },
  {
   "cell_type": "code",
   "execution_count": 54,
   "id": "6b95735e",
   "metadata": {},
   "outputs": [],
   "source": [
    "# Load model\n",
    "modelAbs = PegasusForConditionalGeneration.from_pretrained(\"google/pegasus-wikihow\")"
   ]
  },
  {
   "cell_type": "code",
   "execution_count": 55,
   "id": "12d8010e",
   "metadata": {},
   "outputs": [],
   "source": [
    "# Return the summary of the input Text\n",
    "def GenerateSummary(text, x = 0.25):\n",
    "\n",
    "    listTemp = []\n",
    "    main_listText = []\n",
    "    \n",
    "    inputList = list(text.split('.'))\n",
    "    l = len(inputList)\n",
    "    chunk_size = math.ceil(l * x)      \n",
    "    i = 0\n",
    "    j = chunk_size - 1\n",
    "    iterations = l / (chunk_size)\n",
    "\n",
    "    while i < l:\n",
    "        listTemp.append(inputList[i])\n",
    "        if len(listTemp) >= chunk_size:\n",
    "            main_listText.append('.'.join(listTemp))\n",
    "            listTemp = []\n",
    "        i += 1\n",
    "    if len(listTemp) != 0:\n",
    "        main_listText.append('.'.join(listTemp))\n",
    "    \n",
    "    # Create tokens - number representation of our text\n",
    "    token = tokenizer(main_listText, truncation = True, padding = \"longest\", return_tensors = \"pt\")\n",
    "    # Summarize\n",
    "    summary = modelAbs.generate(**token)\n",
    "    i = 0\n",
    "    summaryText = \"\"\n",
    "    while(i < len(summary)):\n",
    "        summaryText += tokenizer.decode(summary[i])\n",
    "        i += 1\n",
    "    return summaryText"
   ]
  },
  {
   "cell_type": "code",
   "execution_count": 10,
   "id": "a4f805db",
   "metadata": {},
   "outputs": [],
   "source": [
    "scorer = rouge_scorer.RougeScorer(['rouge1', 'rougeL'], use_stemmer=True)"
   ]
  },
  {
   "cell_type": "markdown",
   "id": "a85fcd51",
   "metadata": {},
   "source": [
    "## For WikiHow Data"
   ]
  },
  {
   "cell_type": "code",
   "execution_count": 11,
   "id": "84c395f7",
   "metadata": {},
   "outputs": [],
   "source": [
    "df = pd.read_csv(\"wikihowAll.csv\")"
   ]
  },
  {
   "cell_type": "code",
   "execution_count": 30,
   "id": "583d0e88",
   "metadata": {},
   "outputs": [
    {
     "data": {
      "text/plain": [
       "(215365, 3)"
      ]
     },
     "execution_count": 30,
     "metadata": {},
     "output_type": "execute_result"
    }
   ],
   "source": [
    "df.shape"
   ]
  },
  {
   "cell_type": "code",
   "execution_count": 56,
   "id": "cff9ea39",
   "metadata": {},
   "outputs": [],
   "source": [
    "body = df['text'][69420]"
   ]
  },
  {
   "cell_type": "code",
   "execution_count": 58,
   "id": "84124af6",
   "metadata": {},
   "outputs": [
    {
     "data": {
      "text/plain": [
       "\" If you are as young as 14, some companies will not hire you. Get a job (or at least a paper route).;\\n, Example: Instead of going on a date to dinner and a movie, go for a stroll through the park and have a picnic. (much more romantic anyway)\\n\\n, Then you won't be pressured to go to the mall or the movies and spend money with them.\\n\\n, Tell them that you would be much more encouraged to study harder and put more effort into your work if there was a cash reward. Tell them that it is your future, but you are just a kid. Kids need to work hard at school and have fun. If you had a cash reward for good grades, then you could both be happy.\\n\\n, Seriously. But write down where you hid it. Or tell someone. Then only allow yourself a certain amount of money a month.\\n\\n, Give yourself more time to save the money.\\n\\n, Whatever you are good at you can get paid for. You can tutor kids in a subject area you're especially good at: mow lawns, babysit, clean houses, run errands, anything.\\n\\n, Compare your electric bill to the same month as last year (try to get them to subtract inflation) and see if they'll pay you the balance. Also do dishes, sweep. Keep your room clean.\\n\\n, Have a friend burn a CD for you or go without. Don't buy extra junk food when you aren't really hungry; wait until you get home to eat.\\n\\n, For example, if you need a pen, don't buy one that is going to wear out the next day. By the same token, don't buy the most expensive pen out there.\\n\\n, You may find money still in old wallets or under the bed, or between sofa cushions.\\n\\n, Also, keep in mind that places such as TJ Max take clothes from name-brand stores and sell them for drastically cheaper than the original price. Thrift stores are also good for hidden treasures.\\n\\n, If you have some gift cards that you won't use, but know your parents can use them to purchase household cleaning items, discount clothing, etc.,then ask them if they will pay you in cash for whatever is left on the card. This can add up if you have lots of gift cards! The second use of gift cards is to use them. Go through all of your old wallets and take out all of the gift cards you find. Put them on a surface and separate into two piles:wanted and unwanted gift cards. Use the ones you wanted to keep.This will help you save up much extra money.\\n\\n,, Think a penny doesn't count? Think again. Keep all of your spare change in a piggy bank of some form, and when the pig is full take it to your local bank. You'll be surprised at how quickly those loose coins add up.\\n\\n, The Coin Master takes 8-10 cents per dollar which will really add up! If you originally had $100 worth of coins, then you took it to a coin star machine, it would take ten dollars or more out of your money. To get your change converted to dollar bills, go to a nearby bank and ask for some paper coin rolls. It is actually kind of fun to count all the change by hand. You never know how much it really is, and end up surprising yourself! Be sure to wash your hands when you are done.\\n\\n,,, Put all extra money you earn in a piggy bank. You will be surprised at how much it mounts up!\\n\\n,\""
      ]
     },
     "execution_count": 58,
     "metadata": {},
     "output_type": "execute_result"
    }
   ],
   "source": [
    "body"
   ]
  },
  {
   "cell_type": "code",
   "execution_count": 57,
   "id": "5f319c8e",
   "metadata": {},
   "outputs": [],
   "source": [
    "x = 0.2\n",
    "sum_Text = GenerateSummary(body, x)"
   ]
  },
  {
   "cell_type": "code",
   "execution_count": 59,
   "id": "e045cd5e",
   "metadata": {},
   "outputs": [
    {
     "data": {
      "text/plain": [
       "\"Get a job.<n>Find something fun to do with your date.<n>Tell your date that you need to work hard at school to get good grades.<n>Tell your date that you want a cash reward for good grades.<n>Have fun with your date.Find out how much money you have.<n>Don't buy anything you don't need.<n>Get a job.<n>Ask your parents for a check.Don't buy things you don't need.<n>,<n>Don't buy things you don't need.<n>Don't buy things that are going to wear out.<n>Look around your house for loose change.<n>Shop at discount stores, such as Walmart and Target.<n>Use your gift cards.Use gift cards.<n>Take your change to the ATM.<n><n>,<n>Keep your change in a piggy bank.<n>Take your change to the Coin Master.Convert your change to dollar bills.Go to a bank and ask for some paper coin rolls.Count all the change by hand.<n>Put all extra money in a piggy bank.Go to a bank and ask for some paper coin rolls.\""
      ]
     },
     "execution_count": 59,
     "metadata": {},
     "output_type": "execute_result"
    }
   ],
   "source": [
    "sum_Text"
   ]
  },
  {
   "cell_type": "code",
   "execution_count": 12,
   "id": "0bae6447",
   "metadata": {},
   "outputs": [],
   "source": [
    "R1 = []\n",
    "RL = []\n",
    "for i in range(20):\n",
    "    body = df['text'][i]\n",
    "    result = GenerateSummary(body)\n",
    "    score = scorer.score(df['headline'][i],result)\n",
    "    r1 = score['rouge1'].recall\n",
    "    rl = score['rougeL'].recall\n",
    "    R1.append(r1)\n",
    "    RL.append(rl)"
   ]
  },
  {
   "cell_type": "code",
   "execution_count": 14,
   "id": "9f713a48",
   "metadata": {},
   "outputs": [
    {
     "name": "stdout",
     "output_type": "stream",
     "text": [
      "[0.4117647058823529, 0.553030303030303, 0.6666666666666666, 0.5737704918032787, 0.5, 0.6825396825396826, 0.6923076923076923, 0.6190476190476191, 0.48148148148148145, 0.6521739130434783, 0.39473684210526316, 0.8333333333333334, 0.5789473684210527, 0.3129251700680272, 0.49122807017543857, 0.3956043956043956, 0.7391304347826086, 0.6521739130434783, 0.6666666666666666, 0.6]\n"
     ]
    }
   ],
   "source": [
    "print(R1)"
   ]
  },
  {
   "cell_type": "code",
   "execution_count": 15,
   "id": "4f785ea0",
   "metadata": {},
   "outputs": [
    {
     "name": "stdout",
     "output_type": "stream",
     "text": [
      "[0.3058823529411765, 0.3333333333333333, 0.48717948717948717, 0.3442622950819672, 0.26666666666666666, 0.3968253968253968, 0.5384615384615384, 0.5714285714285714, 0.2716049382716049, 0.5362318840579711, 0.21052631578947367, 0.625, 0.47368421052631576, 0.1564625850340136, 0.34210526315789475, 0.1978021978021978, 0.5, 0.5217391304347826, 0.5, 0.52]\n"
     ]
    }
   ],
   "source": [
    "print(RL)"
   ]
  },
  {
   "cell_type": "code",
   "execution_count": 46,
   "id": "be63fe7d",
   "metadata": {},
   "outputs": [],
   "source": [
    "R1 = [0.4117647058823529, 0.553030303030303, 0.6666666666666666, 0.5737704918032787, 0.5, 0.6825396825396826, 0.6923076923076923, 0.6190476190476191, 0.48148148148148145, 0.6521739130434783, 0.39473684210526316, 0.8333333333333334, 0.5789473684210527, 0.3129251700680272, 0.49122807017543857, 0.3956043956043956, 0.7391304347826086, 0.6521739130434783, 0.6666666666666666, 0.6]\n",
    "RL = [0.3058823529411765, 0.3333333333333333, 0.48717948717948717, 0.3442622950819672, 0.26666666666666666, 0.3968253968253968, 0.5384615384615384, 0.5714285714285714, 0.2716049382716049, 0.5362318840579711, 0.21052631578947367, 0.625, 0.47368421052631576, 0.1564625850340136, 0.34210526315789475, 0.1978021978021978, 0.5, 0.5217391304347826, 0.5, 0.52]"
   ]
  },
  {
   "cell_type": "markdown",
   "id": "b3a3d1f1",
   "metadata": {},
   "source": [
    "## Average ROUGE-L and ROUGE-1 score"
   ]
  },
  {
   "cell_type": "code",
   "execution_count": 47,
   "id": "7c124d83",
   "metadata": {},
   "outputs": [
    {
     "data": {
      "text/plain": [
       "0.40495980834961953"
      ]
     },
     "execution_count": 47,
     "metadata": {},
     "output_type": "execute_result"
    }
   ],
   "source": [
    "sum(RL)/len(RL)"
   ]
  },
  {
   "cell_type": "code",
   "execution_count": 48,
   "id": "9a0978bd",
   "metadata": {},
   "outputs": [
    {
     "data": {
      "text/plain": [
       "0.574876437500141"
      ]
     },
     "execution_count": 48,
     "metadata": {},
     "output_type": "execute_result"
    }
   ],
   "source": [
    "sum(R1)/len(R1)"
   ]
  },
  {
   "cell_type": "markdown",
   "id": "a82a3aa7",
   "metadata": {},
   "source": [
    "## Abstractive Summary of Video"
   ]
  },
  {
   "cell_type": "code",
   "execution_count": 26,
   "id": "ffe0e24b",
   "metadata": {},
   "outputs": [],
   "source": [
    "x = 0.2\n",
    "sumText = GenerateSummary(final_text, x)"
   ]
  },
  {
   "cell_type": "code",
   "execution_count": 27,
   "id": "799c6bbf",
   "metadata": {},
   "outputs": [
    {
     "data": {
      "text/plain": [
       "\"Think about the future of machine intelligence mahadev things that some of these things are science name for all their crazy but i like this let's look at the modern human condition like this.Learn to play any computer game console.<n>Feel very hard work and a few moments later change the staff at human verification it like that is whose right fire was performed implication particular when it comes to questions of power.Recognise that there is no such thing as a human being and that there is no such thing as a race of human beings and that there is no such thing as a species of human beings.The goal is to be comforted not just as a metaphor for greed but as an illustration of a half an hour for optimisation process and give it a misconceived of all specified call if a computer start speaking.<n>The goal is to be comforted not just as a metaphor for greed but as an illustration of a half an hour for optimisation process and give it a misconceived of all specified call if a computer start speaking.Calculate the value of the work that you have done and compare it to the value that you want to sell it as well as the value that you are trying to achieve.\""
      ]
     },
     "execution_count": 27,
     "metadata": {},
     "output_type": "execute_result"
    }
   ],
   "source": [
    "sumText"
   ]
  },
  {
   "cell_type": "code",
   "execution_count": null,
   "id": "a6614cd9",
   "metadata": {},
   "outputs": [],
   "source": []
  },
  {
   "cell_type": "markdown",
   "id": "b9392080",
   "metadata": {},
   "source": [
    "# Doing Extractive Summarization"
   ]
  },
  {
   "cell_type": "code",
   "execution_count": 29,
   "id": "cb6b2b5f",
   "metadata": {},
   "outputs": [],
   "source": [
    "from summarizer import Summarizer\n",
    "import torch"
   ]
  },
  {
   "cell_type": "code",
   "execution_count": 31,
   "id": "8cb2d0c9",
   "metadata": {},
   "outputs": [
    {
     "data": {
      "application/vnd.jupyter.widget-view+json": {
       "model_id": "5df746aa07dc43558319f3c720ff5ecc",
       "version_major": 2,
       "version_minor": 0
      },
      "text/plain": [
       "Downloading:   0%|          | 0.00/483 [00:00<?, ?B/s]"
      ]
     },
     "metadata": {},
     "output_type": "display_data"
    },
    {
     "data": {
      "application/vnd.jupyter.widget-view+json": {
       "model_id": "5c6436b480354140b6cefc3a90c242d9",
       "version_major": 2,
       "version_minor": 0
      },
      "text/plain": [
       "Downloading:   0%|          | 0.00/256M [00:00<?, ?B/s]"
      ]
     },
     "metadata": {},
     "output_type": "display_data"
    },
    {
     "name": "stderr",
     "output_type": "stream",
     "text": [
      "Some weights of the model checkpoint at distilbert-base-uncased were not used when initializing DistilBertModel: ['vocab_transform.weight', 'vocab_layer_norm.bias', 'vocab_transform.bias', 'vocab_layer_norm.weight', 'vocab_projector.weight', 'vocab_projector.bias']\n",
      "- This IS expected if you are initializing DistilBertModel from the checkpoint of a model trained on another task or with another architecture (e.g. initializing a BertForSequenceClassification model from a BertForPreTraining model).\n",
      "- This IS NOT expected if you are initializing DistilBertModel from the checkpoint of a model that you expect to be exactly identical (initializing a BertForSequenceClassification model from a BertForSequenceClassification model).\n"
     ]
    },
    {
     "data": {
      "application/vnd.jupyter.widget-view+json": {
       "model_id": "829f8aa2036b43f3a67334b9c8979db2",
       "version_major": 2,
       "version_minor": 0
      },
      "text/plain": [
       "Downloading:   0%|          | 0.00/226k [00:00<?, ?B/s]"
      ]
     },
     "metadata": {},
     "output_type": "display_data"
    },
    {
     "data": {
      "application/vnd.jupyter.widget-view+json": {
       "model_id": "b6dcd4faa308461ea1c7e8263c7a5275",
       "version_major": 2,
       "version_minor": 0
      },
      "text/plain": [
       "Downloading:   0%|          | 0.00/28.0 [00:00<?, ?B/s]"
      ]
     },
     "metadata": {},
     "output_type": "display_data"
    }
   ],
   "source": [
    "model = Summarizer('distilbert-base-uncased', hidden=[-1,-2], hidden_concat=True)"
   ]
  },
  {
   "cell_type": "markdown",
   "id": "841109e1",
   "metadata": {},
   "source": [
    "## For WikiHow Data "
   ]
  },
  {
   "cell_type": "code",
   "execution_count": 36,
   "id": "660df96f",
   "metadata": {},
   "outputs": [
    {
     "data": {
      "text/plain": [
       "'How to Save Up a Lot of Money for a Holiday (for Teens)'"
      ]
     },
     "execution_count": 36,
     "metadata": {},
     "output_type": "execute_result"
    }
   ],
   "source": [
    "df.title[69420]"
   ]
  },
  {
   "cell_type": "code",
   "execution_count": 37,
   "id": "78f60118",
   "metadata": {},
   "outputs": [
    {
     "name": "stdout",
     "output_type": "stream",
     "text": [
      "\n",
      "Keep related supplies in the same area.,\n",
      "Make an effort to clean a dedicated workspace after every session.,\n",
      "Place loose supplies in large, clearly visible containers.,\n",
      "Use clotheslines and clips to hang sketches, photos, and reference material.,\n",
      "Use every inch of the room for storage, especially vertical space.,\n",
      "Use chalkboard paint to make space for drafting ideas right on the walls.,\n",
      "Purchase a label maker to make your organization strategy semi-permanent.,\n",
      "Make a habit of throwing out old, excess, or useless stuff each month.\n"
     ]
    }
   ],
   "source": [
    "print(df['headline'][0])"
   ]
  },
  {
   "cell_type": "code",
   "execution_count": 32,
   "id": "521c3453",
   "metadata": {},
   "outputs": [],
   "source": [
    "body = df['text'][69420]"
   ]
  },
  {
   "cell_type": "code",
   "execution_count": 33,
   "id": "4532077f",
   "metadata": {},
   "outputs": [
    {
     "data": {
      "text/plain": [
       "\" If you are as young as 14, some companies will not hire you. Get a job (or at least a paper route).;\\n, Example: Instead of going on a date to dinner and a movie, go for a stroll through the park and have a picnic. (much more romantic anyway)\\n\\n, Then you won't be pressured to go to the mall or the movies and spend money with them.\\n\\n, Tell them that you would be much more encouraged to study harder and put more effort into your work if there was a cash reward. Tell them that it is your future, but you are just a kid. Kids need to work hard at school and have fun. If you had a cash reward for good grades, then you could both be happy.\\n\\n, Seriously. But write down where you hid it. Or tell someone. Then only allow yourself a certain amount of money a month.\\n\\n, Give yourself more time to save the money.\\n\\n, Whatever you are good at you can get paid for. You can tutor kids in a subject area you're especially good at: mow lawns, babysit, clean houses, run errands, anything.\\n\\n, Compare your electric bill to the same month as last year (try to get them to subtract inflation) and see if they'll pay you the balance. Also do dishes, sweep. Keep your room clean.\\n\\n, Have a friend burn a CD for you or go without. Don't buy extra junk food when you aren't really hungry; wait until you get home to eat.\\n\\n, For example, if you need a pen, don't buy one that is going to wear out the next day. By the same token, don't buy the most expensive pen out there.\\n\\n, You may find money still in old wallets or under the bed, or between sofa cushions.\\n\\n, Also, keep in mind that places such as TJ Max take clothes from name-brand stores and sell them for drastically cheaper than the original price. Thrift stores are also good for hidden treasures.\\n\\n, If you have some gift cards that you won't use, but know your parents can use them to purchase household cleaning items, discount clothing, etc.,then ask them if they will pay you in cash for whatever is left on the card. This can add up if you have lots of gift cards! The second use of gift cards is to use them. Go through all of your old wallets and take out all of the gift cards you find. Put them on a surface and separate into two piles:wanted and unwanted gift cards. Use the ones you wanted to keep.This will help you save up much extra money.\\n\\n,, Think a penny doesn't count? Think again. Keep all of your spare change in a piggy bank of some form, and when the pig is full take it to your local bank. You'll be surprised at how quickly those loose coins add up.\\n\\n, The Coin Master takes 8-10 cents per dollar which will really add up! If you originally had $100 worth of coins, then you took it to a coin star machine, it would take ten dollars or more out of your money. To get your change converted to dollar bills, go to a nearby bank and ask for some paper coin rolls. It is actually kind of fun to count all the change by hand. You never know how much it really is, and end up surprising yourself! Be sure to wash your hands when you are done.\\n\\n,,, Put all extra money you earn in a piggy bank. You will be surprised at how much it mounts up!\\n\\n,\""
      ]
     },
     "execution_count": 33,
     "metadata": {},
     "output_type": "execute_result"
    }
   ],
   "source": [
    "body"
   ]
  },
  {
   "cell_type": "code",
   "execution_count": 34,
   "id": "86347fb0",
   "metadata": {},
   "outputs": [],
   "source": [
    "result = model(body)"
   ]
  },
  {
   "cell_type": "code",
   "execution_count": 35,
   "id": "645f4b27",
   "metadata": {},
   "outputs": [
    {
     "data": {
      "text/plain": [
       "\"If you are as young as 14, some companies will not hire you. much more romantic anyway)\\n\\n, Then you won't be pressured to go to the mall or the movies and spend money with them. If you had a cash reward for good grades, then you could both be happy. , Give yourself more time to save the money. , You may find money still in old wallets or under the bed, or between sofa cushions. Be sure to wash your hands when you are done. ,,, Put all extra money you earn in a piggy bank. You will be surprised at how much it mounts up!\""
      ]
     },
     "execution_count": 35,
     "metadata": {},
     "output_type": "execute_result"
    }
   ],
   "source": [
    "result"
   ]
  },
  {
   "cell_type": "code",
   "execution_count": 38,
   "id": "6fd39e40",
   "metadata": {},
   "outputs": [],
   "source": [
    "y = scorer.score(df['headline'][0],result)"
   ]
  },
  {
   "cell_type": "code",
   "execution_count": 39,
   "id": "d6537331",
   "metadata": {},
   "outputs": [
    {
     "data": {
      "text/plain": [
       "{'rouge1': Score(precision=0.1523809523809524, recall=0.18823529411764706, fmeasure=0.16842105263157894),\n",
       " 'rougeL': Score(precision=0.08571428571428572, recall=0.10588235294117647, fmeasure=0.09473684210526316)}"
      ]
     },
     "execution_count": 39,
     "metadata": {},
     "output_type": "execute_result"
    }
   ],
   "source": [
    "y"
   ]
  },
  {
   "cell_type": "code",
   "execution_count": 40,
   "id": "b52c0d07",
   "metadata": {},
   "outputs": [
    {
     "data": {
      "text/plain": [
       "0.18823529411764706"
      ]
     },
     "execution_count": 40,
     "metadata": {},
     "output_type": "execute_result"
    }
   ],
   "source": [
    "y['rouge1'].recall"
   ]
  },
  {
   "cell_type": "code",
   "execution_count": 41,
   "id": "d141ff6a",
   "metadata": {},
   "outputs": [],
   "source": [
    "R1 = []\n",
    "RL = []\n",
    "for i in range(20):\n",
    "    body = df['text'][i]\n",
    "    result = model(body)\n",
    "    score = scorer.score(df['headline'][i],result)\n",
    "    r1 = score['rouge1'].recall\n",
    "    rl = score['rougeL'].recall\n",
    "    R1.append(r1)\n",
    "    RL.append(rl)"
   ]
  },
  {
   "cell_type": "code",
   "execution_count": 42,
   "id": "f4f0d148",
   "metadata": {},
   "outputs": [
    {
     "name": "stdout",
     "output_type": "stream",
     "text": [
      "[0.4117647058823529, 0.36363636363636365, 0.38461538461538464, 0.5163934426229508, 0.4, 0.49206349206349204, 0.4230769230769231, 0.47619047619047616, 0.3950617283950617, 0.4782608695652174, 0.15789473684210525, 0.6666666666666666, 0.47368421052631576, 0.16326530612244897, 0.2894736842105263, 0.5934065934065934, 0.43478260869565216, 0.5652173913043478, 0.5, 0.56]\n"
     ]
    }
   ],
   "source": [
    "print(R1)"
   ]
  },
  {
   "cell_type": "code",
   "execution_count": 43,
   "id": "88db73a9",
   "metadata": {},
   "outputs": [
    {
     "name": "stdout",
     "output_type": "stream",
     "text": [
      "[0.2235294117647059, 0.18181818181818182, 0.23076923076923078, 0.2459016393442623, 0.16666666666666666, 0.25396825396825395, 0.3076923076923077, 0.38095238095238093, 0.19753086419753085, 0.2898550724637681, 0.13157894736842105, 0.4583333333333333, 0.2807017543859649, 0.09523809523809523, 0.15789473684210525, 0.2802197802197802, 0.2826086956521739, 0.391304347826087, 0.26666666666666666, 0.36]\n"
     ]
    }
   ],
   "source": [
    "print(RL)"
   ]
  },
  {
   "cell_type": "markdown",
   "id": "db9a3e14",
   "metadata": {},
   "source": [
    "## Average ROUGE-L and ROUGE-1 score"
   ]
  },
  {
   "cell_type": "code",
   "execution_count": 44,
   "id": "3d77adc4",
   "metadata": {},
   "outputs": [
    {
     "data": {
      "text/plain": [
       "0.2591615183584959"
      ]
     },
     "execution_count": 44,
     "metadata": {},
     "output_type": "execute_result"
    }
   ],
   "source": [
    "sum(RL)/len(RL)"
   ]
  },
  {
   "cell_type": "code",
   "execution_count": 45,
   "id": "f4db6e0d",
   "metadata": {},
   "outputs": [
    {
     "data": {
      "text/plain": [
       "0.437272729191144"
      ]
     },
     "execution_count": 45,
     "metadata": {},
     "output_type": "execute_result"
    }
   ],
   "source": [
    "sum(R1)/len(R1)"
   ]
  },
  {
   "cell_type": "markdown",
   "id": "3a8d96be",
   "metadata": {},
   "source": [
    "## Extractive summarization for video "
   ]
  },
  {
   "cell_type": "code",
   "execution_count": 49,
   "id": "009f2073",
   "metadata": {},
   "outputs": [],
   "source": [
    "summaryText = model(final_text)"
   ]
  },
  {
   "cell_type": "code",
   "execution_count": 50,
   "id": "2b43f135",
   "metadata": {
    "scrolled": true
   },
   "outputs": [
    {
     "data": {
      "text/plain": [
       "\"I work with the banks of mathematicians for separation computer sciences london visit around and think. Another way to look at age if you think of world gdp over the last ten thousand years i've actually taken the trouble is it passes for you in a graph it looks like this it take for normal condition i7 2600. In this century scientist mahila and awaken the power of artificial intelligence in ice cream i can see and enhance its position when they think about what is smart and what is term i sent have in mind a picture but the like this that one and we have listed yet. What we need to do is to issue more abstract not in terms of the word hollywood soon as we need to think of intelligence as an optimisation process at process that there's the future in a particular set of configuration in talend. Call to make semen smile when it will take control of the world and electrons in the facial muscles of humans. What we just shut it off a chimpanzees and resolve. That we have this on the contrary customer care wbtc by sitting in a box what is pictures of environment but for gravity simulation from which it cannot escape with it could be that the i can't find a bird but given that really shiva. A compound definition the values that your has its not just in the contacts. Solution to the control problem in advance so that i have it available by the time it is needed it might be that we cannot sold in fire control problem because maybe some elements can only be put in place once you know the details of the architecture work will be implemented within more of the control problem. Decide that one thing that will matter was to get this thing right.\""
      ]
     },
     "execution_count": 50,
     "metadata": {},
     "output_type": "execute_result"
    }
   ],
   "source": [
    "summaryText"
   ]
  },
  {
   "cell_type": "code",
   "execution_count": null,
   "id": "324a284d",
   "metadata": {},
   "outputs": [],
   "source": []
  },
  {
   "cell_type": "markdown",
   "id": "885e5615",
   "metadata": {},
   "source": [
    "References :\n",
    "* Jingqing Zhang, Yao Zhao, Mohammad Saleh, and Peter J. Liu. 2020. PEGASUS: pre-training with extracted gap-sentences for abstractive summarization. In Proceedings of the 37th International Conference on Machine Learning (ICML'2020). JMLR.org, Article 1051, 11328–11339.\n",
    "* https://github.com/dmmiller612/bert-extractive-summarizer\n",
    "* Mahnaz Koupaee, William Yang Wang. WikiHow: A Large Scale Text Summarization Dataset. 2018. arXiv:1810.09305 [cs.CL]"
   ]
  },
  {
   "cell_type": "code",
   "execution_count": null,
   "id": "625e3d5d",
   "metadata": {},
   "outputs": [],
   "source": []
  }
 ],
 "metadata": {
  "kernelspec": {
   "display_name": "Python 3 (ipykernel)",
   "language": "python",
   "name": "python3"
  },
  "language_info": {
   "codemirror_mode": {
    "name": "ipython",
    "version": 3
   },
   "file_extension": ".py",
   "mimetype": "text/x-python",
   "name": "python",
   "nbconvert_exporter": "python",
   "pygments_lexer": "ipython3",
   "version": "3.9.7"
  }
 },
 "nbformat": 4,
 "nbformat_minor": 5
}
